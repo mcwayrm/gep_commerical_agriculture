{
 "cells": [
  {
   "cell_type": "markdown",
   "id": "40172382",
   "metadata": {},
   "source": [
    "# 1. Import packages & read data\n",
    "\n",
    "Here i import the gep_agr package and calculate the data for both livestock and crops.\n"
   ]
  },
  {
   "cell_type": "code",
   "execution_count": 29,
   "id": "f691d49e",
   "metadata": {},
   "outputs": [],
   "source": [
    "import gep_agr\n",
    "import gep_agr_defaults\n",
    "import matplotlib.pyplot as plt\n",
    "\n",
    "\n",
    "livestock  = gep_agr.calculate(\"input\", items = gep_agr_defaults.DEFAULT_LIVESTOCK_ITEMS)\n",
    "crops  = gep_agr.calculate(\"input\", items =  gep_agr_defaults.DEFAULT_CROP_ITEMS)\n"
   ]
  },
  {
   "cell_type": "markdown",
   "id": "7b2918e0",
   "metadata": {},
   "source": [
    "# 2. Selected year\n",
    "Display global value for for both livestock and crops for selected year: 2019"
   ]
  },
  {
   "cell_type": "code",
   "execution_count": 35,
   "id": "1da0bb6d",
   "metadata": {},
   "outputs": [
    {
     "name": "stdout",
     "output_type": "stream",
     "text": [
      "134158476.038\n",
      "678413996.115\n"
     ]
    }
   ],
   "source": [
    "\n",
    "def year_value(df, year):\n",
    "    return df[df['year'] == year]['total_gep'].iloc[0]\n",
    "print(year_value(livestock['gep_by_year'], 2019))\n",
    "print(year_value(crops['gep_by_year'], 2019))"
   ]
  },
  {
   "cell_type": "markdown",
   "id": "3244926b",
   "metadata": {},
   "source": [
    "# 3. All countries 2019\n",
    "Display country level value for for both livestock and crops for selected year: 2019"
   ]
  },
  {
   "cell_type": "code",
   "execution_count": 32,
   "id": "de963fd7",
   "metadata": {},
   "outputs": [
    {
     "data": {
      "application/vnd.microsoft.datawrangler.viewer.v0+json": {
       "columns": [
        {
         "name": "index",
         "rawType": "int64",
         "type": "integer"
        },
        {
         "name": "area_code",
         "rawType": "int32",
         "type": "integer"
        },
        {
         "name": "country",
         "rawType": "object",
         "type": "string"
        },
        {
         "name": "year",
         "rawType": "int32",
         "type": "integer"
        },
        {
         "name": "gep",
         "rawType": "float64",
         "type": "float"
        }
       ],
       "ref": "90b82bc2-7394-4f71-bb13-6402bf0cdac1",
       "rows": [
        [
         "58",
         "1",
         "Armenia",
         "2019",
         "198888.13000000006"
        ],
        [
         "120",
         "3",
         "Albania",
         "2019",
         "494818.09"
        ],
        [
         "182",
         "4",
         "Algeria",
         "2019",
         "8949702.253999999"
        ],
        [
         "244",
         "7",
         "Angola",
         "2019",
         "322050.015"
        ],
        [
         "306",
         "8",
         "Antigua and Barbuda",
         "2019",
         "0.0"
        ],
        [
         "368",
         "9",
         "Argentina",
         "2019",
         "1370358.884"
        ],
        [
         "430",
         "10",
         "Australia",
         "2019",
         "11571663.235999998"
        ],
        [
         "492",
         "11",
         "Austria",
         "2019",
         "360378.4219999999"
        ],
        [
         "554",
         "13",
         "Bahrain",
         "2019",
         "24278.822"
        ],
        [
         "616",
         "14",
         "Barbados",
         "2019",
         "0.0"
        ],
        [
         "678",
         "16",
         "Bangladesh",
         "2019",
         "6440209.334999999"
        ],
        [
         "740",
         "18",
         "Bhutan",
         "2019",
         "13196.475"
        ],
        [
         "802",
         "19",
         "Bolivia (Plurinational State of)",
         "2019",
         "190850.61500000002"
        ],
        [
         "864",
         "20",
         "Botswana",
         "2019",
         "6.93"
        ],
        [
         "926",
         "21",
         "Brazil",
         "2019",
         "13089098.256999994"
        ],
        [
         "988",
         "23",
         "Belize",
         "2019",
         "21865.725"
        ],
        [
         "1050",
         "26",
         "Brunei Darussalam",
         "2019",
         "8973.474999999999"
        ],
        [
         "1112",
         "27",
         "Bulgaria",
         "2019",
         "1014879.83"
        ],
        [
         "1174",
         "29",
         "Burundi",
         "2019",
         "855983.5199999999"
        ],
        [
         "1236",
         "32",
         "Cameroon",
         "2019",
         "1217323.8"
        ],
        [
         "1298",
         "33",
         "Canada",
         "2019",
         "654041.872"
        ],
        [
         "1360",
         "35",
         "Cabo Verde",
         "2019",
         "36745.69499999999"
        ],
        [
         "1422",
         "37",
         "Central African Republic",
         "2019",
         "332399.34"
        ],
        [
         "1484",
         "38",
         "Sri Lanka",
         "2019",
         "1383777.4289999998"
        ],
        [
         "1546",
         "39",
         "Chad",
         "2019",
         "816174.7649999999"
        ],
        [
         "1608",
         "40",
         "Chile",
         "2019",
         "1030428.4830000002"
        ],
        [
         "1670",
         "44",
         "Colombia",
         "2019",
         "2475021.9029999995"
        ],
        [
         "1732",
         "45",
         "Comoros",
         "2019",
         "0.0"
        ],
        [
         "1794",
         "46",
         "Congo",
         "2019",
         "1049113.4849999999"
        ],
        [
         "1856",
         "47",
         "Cook Islands",
         "2019",
         "0.0"
        ],
        [
         "1918",
         "48",
         "Costa Rica",
         "2019",
         "524584.1249999999"
        ],
        [
         "1980",
         "50",
         "Cyprus",
         "2019",
         "223907.798"
        ],
        [
         "2042",
         "51",
         "Czechoslovakia",
         "2019",
         "0.0"
        ],
        [
         "2104",
         "52",
         "Azerbaijan",
         "2019",
         "736037.49"
        ],
        [
         "2166",
         "53",
         "Benin",
         "2019",
         "1885594.7250000006"
        ],
        [
         "2228",
         "54",
         "Denmark",
         "2019",
         "608367.9060000001"
        ],
        [
         "2290",
         "56",
         "Dominican Republic",
         "2019",
         "979013.25"
        ],
        [
         "2352",
         "57",
         "Belarus",
         "2019",
         "512606.0800000001"
        ],
        [
         "2414",
         "58",
         "Ecuador",
         "2019",
         "583332.964"
        ],
        [
         "2476",
         "59",
         "Egypt",
         "2019",
         "12284817.867999999"
        ],
        [
         "2538",
         "60",
         "El Salvador",
         "2019",
         "305034.07499999995"
        ],
        [
         "2600",
         "61",
         "Equatorial Guinea",
         "2019",
         "24415.649999999998"
        ],
        [
         "2662",
         "62",
         "Ethiopia PDR",
         "2019",
         "0.0"
        ],
        [
         "2724",
         "63",
         "Estonia",
         "2019",
         "164237.25000000003"
        ],
        [
         "2786",
         "66",
         "Fiji",
         "2019",
         "135809.884"
        ],
        [
         "2848",
         "67",
         "Finland",
         "2019",
         "55003.63"
        ],
        [
         "2910",
         "68",
         "France",
         "2019",
         "4990557.947999998"
        ],
        [
         "2972",
         "69",
         "French Guiana",
         "2019",
         "0.0"
        ],
        [
         "3034",
         "70",
         "French Polynesia",
         "2019",
         "0.0"
        ],
        [
         "3096",
         "73",
         "Georgia",
         "2019",
         "182954.19000000006"
        ]
       ],
       "shape": {
        "columns": 4,
        "rows": 182
       }
      },
      "text/html": [
       "<div>\n",
       "<style scoped>\n",
       "    .dataframe tbody tr th:only-of-type {\n",
       "        vertical-align: middle;\n",
       "    }\n",
       "\n",
       "    .dataframe tbody tr th {\n",
       "        vertical-align: top;\n",
       "    }\n",
       "\n",
       "    .dataframe thead th {\n",
       "        text-align: right;\n",
       "    }\n",
       "</style>\n",
       "<table border=\"1\" class=\"dataframe\">\n",
       "  <thead>\n",
       "    <tr style=\"text-align: right;\">\n",
       "      <th></th>\n",
       "      <th>area_code</th>\n",
       "      <th>country</th>\n",
       "      <th>year</th>\n",
       "      <th>gep</th>\n",
       "    </tr>\n",
       "  </thead>\n",
       "  <tbody>\n",
       "    <tr>\n",
       "      <th>58</th>\n",
       "      <td>1</td>\n",
       "      <td>Armenia</td>\n",
       "      <td>2019</td>\n",
       "      <td>1.988881e+05</td>\n",
       "    </tr>\n",
       "    <tr>\n",
       "      <th>120</th>\n",
       "      <td>3</td>\n",
       "      <td>Albania</td>\n",
       "      <td>2019</td>\n",
       "      <td>4.948181e+05</td>\n",
       "    </tr>\n",
       "    <tr>\n",
       "      <th>182</th>\n",
       "      <td>4</td>\n",
       "      <td>Algeria</td>\n",
       "      <td>2019</td>\n",
       "      <td>8.949702e+06</td>\n",
       "    </tr>\n",
       "    <tr>\n",
       "      <th>244</th>\n",
       "      <td>7</td>\n",
       "      <td>Angola</td>\n",
       "      <td>2019</td>\n",
       "      <td>3.220500e+05</td>\n",
       "    </tr>\n",
       "    <tr>\n",
       "      <th>306</th>\n",
       "      <td>8</td>\n",
       "      <td>Antigua and Barbuda</td>\n",
       "      <td>2019</td>\n",
       "      <td>0.000000e+00</td>\n",
       "    </tr>\n",
       "    <tr>\n",
       "      <th>...</th>\n",
       "      <td>...</td>\n",
       "      <td>...</td>\n",
       "      <td>...</td>\n",
       "      <td>...</td>\n",
       "    </tr>\n",
       "    <tr>\n",
       "      <th>11032</th>\n",
       "      <td>272</td>\n",
       "      <td>Serbia</td>\n",
       "      <td>2019</td>\n",
       "      <td>1.031752e+06</td>\n",
       "    </tr>\n",
       "    <tr>\n",
       "      <th>11094</th>\n",
       "      <td>276</td>\n",
       "      <td>Sudan</td>\n",
       "      <td>2019</td>\n",
       "      <td>0.000000e+00</td>\n",
       "    </tr>\n",
       "    <tr>\n",
       "      <th>11156</th>\n",
       "      <td>299</td>\n",
       "      <td>Palestine</td>\n",
       "      <td>2019</td>\n",
       "      <td>7.301066e+05</td>\n",
       "    </tr>\n",
       "    <tr>\n",
       "      <th>11218</th>\n",
       "      <td>351</td>\n",
       "      <td>China</td>\n",
       "      <td>2019</td>\n",
       "      <td>2.995781e+08</td>\n",
       "    </tr>\n",
       "    <tr>\n",
       "      <th>11280</th>\n",
       "      <td>5815</td>\n",
       "      <td>Low Income Food Deficit Countries</td>\n",
       "      <td>2019</td>\n",
       "      <td>0.000000e+00</td>\n",
       "    </tr>\n",
       "  </tbody>\n",
       "</table>\n",
       "<p>182 rows × 4 columns</p>\n",
       "</div>"
      ],
      "text/plain": [
       "       area_code                            country  year           gep\n",
       "58             1                            Armenia  2019  1.988881e+05\n",
       "120            3                            Albania  2019  4.948181e+05\n",
       "182            4                            Algeria  2019  8.949702e+06\n",
       "244            7                             Angola  2019  3.220500e+05\n",
       "306            8                Antigua and Barbuda  2019  0.000000e+00\n",
       "...          ...                                ...   ...           ...\n",
       "11032        272                             Serbia  2019  1.031752e+06\n",
       "11094        276                              Sudan  2019  0.000000e+00\n",
       "11156        299                          Palestine  2019  7.301066e+05\n",
       "11218        351                              China  2019  2.995781e+08\n",
       "11280       5815  Low Income Food Deficit Countries  2019  0.000000e+00\n",
       "\n",
       "[182 rows x 4 columns]"
      ]
     },
     "metadata": {},
     "output_type": "display_data"
    },
    {
     "data": {
      "application/vnd.microsoft.datawrangler.viewer.v0+json": {
       "columns": [
        {
         "name": "index",
         "rawType": "int64",
         "type": "integer"
        },
        {
         "name": "area_code",
         "rawType": "int32",
         "type": "integer"
        },
        {
         "name": "country",
         "rawType": "object",
         "type": "string"
        },
        {
         "name": "year",
         "rawType": "int32",
         "type": "integer"
        },
        {
         "name": "gep",
         "rawType": "float64",
         "type": "float"
        }
       ],
       "ref": "9f809fbf-9869-42d5-b89e-9df56f423462",
       "rows": [
        [
         "58",
         "1",
         "Armenia",
         "2019",
         "154163.71"
        ],
        [
         "120",
         "3",
         "Albania",
         "2019",
         "55125.25"
        ],
        [
         "182",
         "4",
         "Algeria",
         "2019",
         "2997092.8699999996"
        ],
        [
         "244",
         "8",
         "Antigua and Barbuda",
         "2019",
         "0.0"
        ],
        [
         "306",
         "9",
         "Argentina",
         "2019",
         "850586.324"
        ],
        [
         "368",
         "10",
         "Australia",
         "2019",
         "313189.228"
        ],
        [
         "430",
         "11",
         "Austria",
         "2019",
         "258329.954"
        ],
        [
         "492",
         "13",
         "Bahrain",
         "2019",
         "7562.58"
        ],
        [
         "554",
         "14",
         "Barbados",
         "2019",
         "0.0"
        ],
        [
         "616",
         "16",
         "Bangladesh",
         "2019",
         "0.0"
        ],
        [
         "678",
         "18",
         "Bhutan",
         "2019",
         "0.0"
        ],
        [
         "740",
         "19",
         "Bolivia (Plurinational State of)",
         "2019",
         "0.0"
        ],
        [
         "802",
         "21",
         "Brazil",
         "2019",
         "330990.554"
        ],
        [
         "864",
         "23",
         "Belize",
         "2019",
         "0.0"
        ],
        [
         "926",
         "26",
         "Brunei Darussalam",
         "2019",
         "37261.224"
        ],
        [
         "988",
         "27",
         "Bulgaria",
         "2019",
         "8818.890000000001"
        ],
        [
         "1050",
         "29",
         "Burundi",
         "2019",
         "0.0"
        ],
        [
         "1112",
         "32",
         "Cameroon",
         "2019",
         "0.0"
        ],
        [
         "1174",
         "33",
         "Canada",
         "2019",
         "17626.496"
        ],
        [
         "1236",
         "35",
         "Cabo Verde",
         "2019",
         "11471.039999999999"
        ],
        [
         "1298",
         "38",
         "Sri Lanka",
         "2019",
         "195168.99"
        ],
        [
         "1360",
         "39",
         "Chad",
         "2019",
         "0.0"
        ],
        [
         "1422",
         "40",
         "Chile",
         "2019",
         "180070.99"
        ],
        [
         "1484",
         "44",
         "Colombia",
         "2019",
         "1149499.702"
        ],
        [
         "1546",
         "46",
         "Congo",
         "2019",
         "0.0"
        ],
        [
         "1608",
         "47",
         "Cook Islands",
         "2019",
         "0.0"
        ],
        [
         "1670",
         "48",
         "Costa Rica",
         "2019",
         "0.0"
        ],
        [
         "1732",
         "50",
         "Cyprus",
         "2019",
         "112861.264"
        ],
        [
         "1794",
         "51",
         "Czechoslovakia",
         "2019",
         "0.0"
        ],
        [
         "1856",
         "52",
         "Azerbaijan",
         "2019",
         "251201.86000000004"
        ],
        [
         "1918",
         "54",
         "Denmark",
         "2019",
         "337700.734"
        ],
        [
         "1980",
         "56",
         "Dominican Republic",
         "2019",
         "33339.37500000001"
        ],
        [
         "2042",
         "57",
         "Belarus",
         "2019",
         "20388.0"
        ],
        [
         "2104",
         "58",
         "Ecuador",
         "2019",
         "18341.506"
        ],
        [
         "2166",
         "59",
         "Egypt",
         "2019",
         "391888.17199999996"
        ],
        [
         "2228",
         "60",
         "El Salvador",
         "2019",
         "28212.075"
        ],
        [
         "2290",
         "62",
         "Ethiopia PDR",
         "2019",
         "0.0"
        ],
        [
         "2352",
         "63",
         "Estonia",
         "2019",
         "30026.039999999997"
        ],
        [
         "2414",
         "66",
         "Fiji",
         "2019",
         "66934.063"
        ],
        [
         "2476",
         "67",
         "Finland",
         "2019",
         "19861.116"
        ],
        [
         "2538",
         "68",
         "France",
         "2019",
         "1230508.504"
        ],
        [
         "2600",
         "73",
         "Georgia",
         "2019",
         "71745.97"
        ],
        [
         "2662",
         "75",
         "Gambia",
         "2019",
         "7853.265"
        ],
        [
         "2724",
         "79",
         "Germany",
         "2019",
         "1721699.6760000002"
        ],
        [
         "2786",
         "80",
         "Bosnia and Herzegovina",
         "2019",
         "42671.21"
        ],
        [
         "2848",
         "81",
         "Ghana",
         "2019",
         "0.0"
        ],
        [
         "2910",
         "84",
         "Greece",
         "2019",
         "117366.703"
        ],
        [
         "2972",
         "86",
         "Grenada",
         "2019",
         "0.0"
        ],
        [
         "3034",
         "90",
         "Guinea",
         "2019",
         "118932.03000000001"
        ],
        [
         "3096",
         "91",
         "Guyana",
         "2019",
         "1293.975"
        ]
       ],
       "shape": {
        "columns": 4,
        "rows": 152
       }
      },
      "text/html": [
       "<div>\n",
       "<style scoped>\n",
       "    .dataframe tbody tr th:only-of-type {\n",
       "        vertical-align: middle;\n",
       "    }\n",
       "\n",
       "    .dataframe tbody tr th {\n",
       "        vertical-align: top;\n",
       "    }\n",
       "\n",
       "    .dataframe thead th {\n",
       "        text-align: right;\n",
       "    }\n",
       "</style>\n",
       "<table border=\"1\" class=\"dataframe\">\n",
       "  <thead>\n",
       "    <tr style=\"text-align: right;\">\n",
       "      <th></th>\n",
       "      <th>area_code</th>\n",
       "      <th>country</th>\n",
       "      <th>year</th>\n",
       "      <th>gep</th>\n",
       "    </tr>\n",
       "  </thead>\n",
       "  <tbody>\n",
       "    <tr>\n",
       "      <th>58</th>\n",
       "      <td>1</td>\n",
       "      <td>Armenia</td>\n",
       "      <td>2019</td>\n",
       "      <td>1.541637e+05</td>\n",
       "    </tr>\n",
       "    <tr>\n",
       "      <th>120</th>\n",
       "      <td>3</td>\n",
       "      <td>Albania</td>\n",
       "      <td>2019</td>\n",
       "      <td>5.512525e+04</td>\n",
       "    </tr>\n",
       "    <tr>\n",
       "      <th>182</th>\n",
       "      <td>4</td>\n",
       "      <td>Algeria</td>\n",
       "      <td>2019</td>\n",
       "      <td>2.997093e+06</td>\n",
       "    </tr>\n",
       "    <tr>\n",
       "      <th>244</th>\n",
       "      <td>8</td>\n",
       "      <td>Antigua and Barbuda</td>\n",
       "      <td>2019</td>\n",
       "      <td>0.000000e+00</td>\n",
       "    </tr>\n",
       "    <tr>\n",
       "      <th>306</th>\n",
       "      <td>9</td>\n",
       "      <td>Argentina</td>\n",
       "      <td>2019</td>\n",
       "      <td>8.505863e+05</td>\n",
       "    </tr>\n",
       "    <tr>\n",
       "      <th>...</th>\n",
       "      <td>...</td>\n",
       "      <td>...</td>\n",
       "      <td>...</td>\n",
       "      <td>...</td>\n",
       "    </tr>\n",
       "    <tr>\n",
       "      <th>9172</th>\n",
       "      <td>256</td>\n",
       "      <td>Luxembourg</td>\n",
       "      <td>2019</td>\n",
       "      <td>7.238752e+03</td>\n",
       "    </tr>\n",
       "    <tr>\n",
       "      <th>9234</th>\n",
       "      <td>272</td>\n",
       "      <td>Serbia</td>\n",
       "      <td>2019</td>\n",
       "      <td>3.647938e+04</td>\n",
       "    </tr>\n",
       "    <tr>\n",
       "      <th>9296</th>\n",
       "      <td>299</td>\n",
       "      <td>Palestine</td>\n",
       "      <td>2019</td>\n",
       "      <td>3.189389e+05</td>\n",
       "    </tr>\n",
       "    <tr>\n",
       "      <th>9358</th>\n",
       "      <td>351</td>\n",
       "      <td>China</td>\n",
       "      <td>2019</td>\n",
       "      <td>8.918741e+07</td>\n",
       "    </tr>\n",
       "    <tr>\n",
       "      <th>9420</th>\n",
       "      <td>5815</td>\n",
       "      <td>Low Income Food Deficit Countries</td>\n",
       "      <td>2019</td>\n",
       "      <td>0.000000e+00</td>\n",
       "    </tr>\n",
       "  </tbody>\n",
       "</table>\n",
       "<p>152 rows × 4 columns</p>\n",
       "</div>"
      ],
      "text/plain": [
       "      area_code                            country  year           gep\n",
       "58            1                            Armenia  2019  1.541637e+05\n",
       "120           3                            Albania  2019  5.512525e+04\n",
       "182           4                            Algeria  2019  2.997093e+06\n",
       "244           8                Antigua and Barbuda  2019  0.000000e+00\n",
       "306           9                          Argentina  2019  8.505863e+05\n",
       "...         ...                                ...   ...           ...\n",
       "9172        256                         Luxembourg  2019  7.238752e+03\n",
       "9234        272                             Serbia  2019  3.647938e+04\n",
       "9296        299                          Palestine  2019  3.189389e+05\n",
       "9358        351                              China  2019  8.918741e+07\n",
       "9420       5815  Low Income Food Deficit Countries  2019  0.000000e+00\n",
       "\n",
       "[152 rows x 4 columns]"
      ]
     },
     "metadata": {},
     "output_type": "display_data"
    }
   ],
   "source": [
    "df = crops[\"gep_by_year_country\"]\n",
    "display(df[df[\"year\"] == 2019])\n",
    "\n",
    "df = livestock[\"gep_by_year_country\"]\n",
    "display(df[df[\"year\"] == 2019])"
   ]
  },
  {
   "cell_type": "markdown",
   "id": "078c56d3",
   "metadata": {},
   "source": [
    "# 4. All countries all crops/ livestock 2019\n",
    "Display country level value for for both livestock and crops items for selected year: 2019"
   ]
  },
  {
   "cell_type": "code",
   "execution_count": 37,
   "id": "a17d8466",
   "metadata": {},
   "outputs": [
    {
     "data": {
      "application/vnd.microsoft.datawrangler.viewer.v0+json": {
       "columns": [
        {
         "name": "index",
         "rawType": "int64",
         "type": "integer"
        },
        {
         "name": "area_code",
         "rawType": "int32",
         "type": "integer"
        },
        {
         "name": "country",
         "rawType": "object",
         "type": "string"
        },
        {
         "name": "crop_code",
         "rawType": "int64",
         "type": "integer"
        },
        {
         "name": "crop",
         "rawType": "object",
         "type": "string"
        },
        {
         "name": "year",
         "rawType": "int32",
         "type": "integer"
        },
        {
         "name": "gep",
         "rawType": "object",
         "type": "unknown"
        },
        {
         "name": "rental_rate",
         "rawType": "object",
         "type": "unknown"
        }
       ],
       "ref": "991a3f48-0ad3-4ae6-9114-da0e72f2dd6c",
       "rows": [
        [
         "1972",
         "1",
         "Armenia",
         "71",
         "Rye",
         "2019",
         "8.97",
         "0.23"
        ],
        [
         "1973",
         "1",
         "Armenia",
         "417",
         "Peas, green",
         "2019",
         null,
         "0.23"
        ],
        [
         "1974",
         "1",
         "Armenia",
         "536",
         "Plums and sloes",
         "2019",
         "1713.96",
         "0.23"
        ],
        [
         "1975",
         "1",
         "Armenia",
         "116",
         "Potatoes",
         "2019",
         "28313.690000000002",
         "0.23"
        ],
        [
         "1976",
         "1",
         "Armenia",
         "523",
         "Quinces",
         "2019",
         "197.8",
         "0.23"
        ],
        [
         "1977",
         "1",
         "Armenia",
         "882",
         "Raw milk of cattle",
         "2019",
         "42522.4",
         "0.23"
        ],
        [
         "1978",
         "1",
         "Armenia",
         "1723",
         "Sugar Crops Primary",
         "2019",
         "781.5400000000001",
         "0.23"
        ],
        [
         "1979",
         "1",
         "Armenia",
         "187",
         "Peas, dry",
         "2019",
         null,
         "0.23"
        ],
        [
         "1980",
         "1",
         "Armenia",
         "388",
         "Tomatoes",
         "2019",
         "11915.84",
         "0.23"
        ],
        [
         "1981",
         "1",
         "Armenia",
         "826",
         "Unmanufactured tobacco",
         "2019",
         "36.800000000000004",
         "0.23"
        ],
        [
         "1982",
         "1",
         "Armenia",
         "222",
         "Walnuts, in shell",
         "2019",
         "1867.3700000000001",
         "0.23"
        ],
        [
         "1983",
         "1",
         "Armenia",
         "567",
         "Watermelons",
         "2019",
         "3735.2000000000003",
         "0.23"
        ],
        [
         "1984",
         "1",
         "Armenia",
         "15",
         "Wheat",
         "2019",
         "6769.360000000001",
         "0.23"
        ],
        [
         "1985",
         "1",
         "Armenia",
         "2057",
         "Non Food",
         "2019",
         "361.1",
         "0.23"
        ],
        [
         "1986",
         "1",
         "Armenia",
         "1720",
         "Roots and Tubers, Total",
         "2019",
         "28313.690000000002",
         "0.23"
        ],
        [
         "1987",
         "1",
         "Armenia",
         "987",
         "Shorn wool, greasy, including fleece-washed shorn wool",
         "2019",
         "324.07",
         "0.23"
        ],
        [
         "1988",
         "1",
         "Armenia",
         "521",
         "Pears",
         "2019",
         "1614.8300000000002",
         "0.23"
        ],
        [
         "1989",
         "1",
         "Armenia",
         "399",
         "Eggplants (aubergines)",
         "2019",
         "2242.27",
         "0.23"
        ],
        [
         "1990",
         "1",
         "Armenia",
         "211",
         "Other pulses n.e.c.",
         "2019",
         null,
         "0.23"
        ],
        [
         "1991",
         "1",
         "Armenia",
         "515",
         "Apples",
         "2019",
         "7832.42",
         "0.23"
        ],
        [
         "1992",
         "1",
         "Armenia",
         "526",
         "Apricots",
         "2019",
         "12664.720000000001",
         "0.23"
        ],
        [
         "1993",
         "1",
         "Armenia",
         "44",
         "Barley",
         "2019",
         "4257.3",
         "0.23"
        ],
        [
         "1994",
         "1",
         "Armenia",
         "176",
         "Beans, dry",
         "2019",
         "1523.98",
         "0.23"
        ],
        [
         "1995",
         "1",
         "Armenia",
         "358",
         "Cabbages",
         "2019",
         "2932.04",
         "0.23"
        ],
        [
         "1996",
         "1",
         "Armenia",
         "426",
         "Carrots and turnips",
         "2019",
         "1093.42",
         "0.23"
        ],
        [
         "1997",
         "1",
         "Armenia",
         "531",
         "Cherries",
         "2019",
         "2994.6",
         "0.23"
        ],
        [
         "1998",
         "1",
         "Armenia",
         "534",
         "Peaches and nectarines",
         "2019",
         "6879.3",
         "0.23"
        ],
        [
         "1999",
         "1",
         "Armenia",
         "569",
         "Figs",
         "2019",
         "206.54000000000002",
         "0.23"
        ],
        [
         "2000",
         "1",
         "Armenia",
         "560",
         "Grapes",
         "2019",
         "17345.68",
         "0.23"
        ],
        [
         "2001",
         "1",
         "Armenia",
         "406",
         "Green garlic",
         "2019",
         "2225.71",
         "0.23"
        ],
        [
         "2002",
         "1",
         "Armenia",
         "201",
         "Lentils, dry",
         "2019",
         "44.39",
         "0.23"
        ],
        [
         "2003",
         "1",
         "Armenia",
         "449",
         "Mushrooms and truffles",
         "2019",
         null,
         "0.23"
        ],
        [
         "2004",
         "1",
         "Armenia",
         "403",
         "Onions and shallots, dry (excluding dehydrated)",
         "2019",
         "2967.0",
         "0.23"
        ],
        [
         "2005",
         "1",
         "Armenia",
         "397",
         "Cucumbers and gherkins",
         "2019",
         "5202.14",
         "0.23"
        ],
        [
         "5414",
         "3",
         "Albania",
         "523",
         "Quinces",
         "2019",
         "720.82",
         "0.23"
        ],
        [
         "5415",
         "3",
         "Albania",
         "982",
         "Raw milk of sheep",
         "2019",
         "14456.42",
         "0.23"
        ],
        [
         "5416",
         "3",
         "Albania",
         "1020",
         "Raw milk of goats",
         "2019",
         "9495.32",
         "0.23"
        ],
        [
         "5417",
         "3",
         "Albania",
         "882",
         "Raw milk of cattle",
         "2019",
         "83845.12000000001",
         "0.23"
        ],
        [
         "5418",
         "3",
         "Albania",
         "394",
         "Pumpkins, squash and gourds",
         "2019",
         "2554.38",
         "0.23"
        ],
        [
         "5419",
         "3",
         "Albania",
         "463",
         "Other vegetables, fresh n.e.c.",
         "2019",
         null,
         "0.23"
        ],
        [
         "5420",
         "3",
         "Albania",
         "536",
         "Plums and sloes",
         "2019",
         "4907.97",
         "0.23"
        ],
        [
         "5421",
         "3",
         "Albania",
         "417",
         "Peas, green",
         "2019",
         "813.2800000000001",
         "0.23"
        ],
        [
         "5422",
         "3",
         "Albania",
         "521",
         "Pears",
         "2019",
         "2620.62",
         "0.23"
        ],
        [
         "5423",
         "3",
         "Albania",
         "534",
         "Peaches and nectarines",
         "2019",
         "2819.34",
         "0.23"
        ],
        [
         "5424",
         "3",
         "Albania",
         "1723",
         "Sugar Crops Primary",
         "2019",
         "304.75",
         "0.23"
        ],
        [
         "5425",
         "3",
         "Albania",
         "116",
         "Potatoes",
         "2019",
         "25047.920000000002",
         "0.23"
        ],
        [
         "5426",
         "3",
         "Albania",
         "27",
         "Rice",
         "2019",
         null,
         "0.23"
        ],
        [
         "5427",
         "3",
         "Albania",
         "495",
         "Tangerines, mandarins, clementines",
         "2019",
         "3520.15",
         "0.23"
        ],
        [
         "5428",
         "3",
         "Albania",
         "987",
         "Shorn wool, greasy, including fleece-washed shorn wool",
         "2019",
         "241.27",
         "0.23"
        ],
        [
         "5429",
         "3",
         "Albania",
         "236",
         "Soya beans",
         "2019",
         "82.57000000000001",
         "0.23"
        ]
       ],
       "shape": {
        "columns": 7,
        "rows": 7225
       }
      },
      "text/html": [
       "<div>\n",
       "<style scoped>\n",
       "    .dataframe tbody tr th:only-of-type {\n",
       "        vertical-align: middle;\n",
       "    }\n",
       "\n",
       "    .dataframe tbody tr th {\n",
       "        vertical-align: top;\n",
       "    }\n",
       "\n",
       "    .dataframe thead th {\n",
       "        text-align: right;\n",
       "    }\n",
       "</style>\n",
       "<table border=\"1\" class=\"dataframe\">\n",
       "  <thead>\n",
       "    <tr style=\"text-align: right;\">\n",
       "      <th></th>\n",
       "      <th>area_code</th>\n",
       "      <th>country</th>\n",
       "      <th>crop_code</th>\n",
       "      <th>crop</th>\n",
       "      <th>year</th>\n",
       "      <th>gep</th>\n",
       "      <th>rental_rate</th>\n",
       "    </tr>\n",
       "  </thead>\n",
       "  <tbody>\n",
       "    <tr>\n",
       "      <th>1972</th>\n",
       "      <td>1</td>\n",
       "      <td>Armenia</td>\n",
       "      <td>71</td>\n",
       "      <td>Rye</td>\n",
       "      <td>2019</td>\n",
       "      <td>8.97</td>\n",
       "      <td>0.23</td>\n",
       "    </tr>\n",
       "    <tr>\n",
       "      <th>1973</th>\n",
       "      <td>1</td>\n",
       "      <td>Armenia</td>\n",
       "      <td>417</td>\n",
       "      <td>Peas, green</td>\n",
       "      <td>2019</td>\n",
       "      <td>NaN</td>\n",
       "      <td>0.23</td>\n",
       "    </tr>\n",
       "    <tr>\n",
       "      <th>1974</th>\n",
       "      <td>1</td>\n",
       "      <td>Armenia</td>\n",
       "      <td>536</td>\n",
       "      <td>Plums and sloes</td>\n",
       "      <td>2019</td>\n",
       "      <td>1713.96</td>\n",
       "      <td>0.23</td>\n",
       "    </tr>\n",
       "    <tr>\n",
       "      <th>1975</th>\n",
       "      <td>1</td>\n",
       "      <td>Armenia</td>\n",
       "      <td>116</td>\n",
       "      <td>Potatoes</td>\n",
       "      <td>2019</td>\n",
       "      <td>28313.69</td>\n",
       "      <td>0.23</td>\n",
       "    </tr>\n",
       "    <tr>\n",
       "      <th>1976</th>\n",
       "      <td>1</td>\n",
       "      <td>Armenia</td>\n",
       "      <td>523</td>\n",
       "      <td>Quinces</td>\n",
       "      <td>2019</td>\n",
       "      <td>197.8</td>\n",
       "      <td>0.23</td>\n",
       "    </tr>\n",
       "    <tr>\n",
       "      <th>...</th>\n",
       "      <td>...</td>\n",
       "      <td>...</td>\n",
       "      <td>...</td>\n",
       "      <td>...</td>\n",
       "      <td>...</td>\n",
       "      <td>...</td>\n",
       "      <td>...</td>\n",
       "    </tr>\n",
       "    <tr>\n",
       "      <th>447495</th>\n",
       "      <td>5815</td>\n",
       "      <td>Low Income Food Deficit Countries</td>\n",
       "      <td>135</td>\n",
       "      <td>Yautia</td>\n",
       "      <td>2019</td>\n",
       "      <td>NaN</td>\n",
       "      <td>NaN</td>\n",
       "    </tr>\n",
       "    <tr>\n",
       "      <th>447496</th>\n",
       "      <td>5815</td>\n",
       "      <td>Low Income Food Deficit Countries</td>\n",
       "      <td>2057</td>\n",
       "      <td>Non Food</td>\n",
       "      <td>2019</td>\n",
       "      <td>NaN</td>\n",
       "      <td>NaN</td>\n",
       "    </tr>\n",
       "    <tr>\n",
       "      <th>447497</th>\n",
       "      <td>5815</td>\n",
       "      <td>Low Income Food Deficit Countries</td>\n",
       "      <td>1730</td>\n",
       "      <td>Oilcrops Primary</td>\n",
       "      <td>2019</td>\n",
       "      <td>NaN</td>\n",
       "      <td>NaN</td>\n",
       "    </tr>\n",
       "    <tr>\n",
       "      <th>447498</th>\n",
       "      <td>5815</td>\n",
       "      <td>Low Income Food Deficit Countries</td>\n",
       "      <td>1720</td>\n",
       "      <td>Roots and Tubers, Total</td>\n",
       "      <td>2019</td>\n",
       "      <td>NaN</td>\n",
       "      <td>NaN</td>\n",
       "    </tr>\n",
       "    <tr>\n",
       "      <th>447499</th>\n",
       "      <td>5815</td>\n",
       "      <td>Low Income Food Deficit Countries</td>\n",
       "      <td>1723</td>\n",
       "      <td>Sugar Crops Primary</td>\n",
       "      <td>2019</td>\n",
       "      <td>NaN</td>\n",
       "      <td>NaN</td>\n",
       "    </tr>\n",
       "  </tbody>\n",
       "</table>\n",
       "<p>7225 rows × 7 columns</p>\n",
       "</div>"
      ],
      "text/plain": [
       "        area_code                            country  crop_code  \\\n",
       "1972            1                            Armenia         71   \n",
       "1973            1                            Armenia        417   \n",
       "1974            1                            Armenia        536   \n",
       "1975            1                            Armenia        116   \n",
       "1976            1                            Armenia        523   \n",
       "...           ...                                ...        ...   \n",
       "447495       5815  Low Income Food Deficit Countries        135   \n",
       "447496       5815  Low Income Food Deficit Countries       2057   \n",
       "447497       5815  Low Income Food Deficit Countries       1730   \n",
       "447498       5815  Low Income Food Deficit Countries       1720   \n",
       "447499       5815  Low Income Food Deficit Countries       1723   \n",
       "\n",
       "                           crop  year       gep rental_rate  \n",
       "1972                        Rye  2019      8.97        0.23  \n",
       "1973                Peas, green  2019       NaN        0.23  \n",
       "1974            Plums and sloes  2019   1713.96        0.23  \n",
       "1975                   Potatoes  2019  28313.69        0.23  \n",
       "1976                    Quinces  2019     197.8        0.23  \n",
       "...                         ...   ...       ...         ...  \n",
       "447495                   Yautia  2019       NaN         NaN  \n",
       "447496                 Non Food  2019       NaN         NaN  \n",
       "447497         Oilcrops Primary  2019       NaN         NaN  \n",
       "447498  Roots and Tubers, Total  2019       NaN         NaN  \n",
       "447499      Sugar Crops Primary  2019       NaN         NaN  \n",
       "\n",
       "[7225 rows x 7 columns]"
      ]
     },
     "metadata": {},
     "output_type": "display_data"
    },
    {
     "data": {
      "application/vnd.microsoft.datawrangler.viewer.v0+json": {
       "columns": [
        {
         "name": "index",
         "rawType": "int64",
         "type": "integer"
        },
        {
         "name": "area_code",
         "rawType": "int32",
         "type": "integer"
        },
        {
         "name": "country",
         "rawType": "object",
         "type": "string"
        },
        {
         "name": "crop_code",
         "rawType": "int64",
         "type": "integer"
        },
        {
         "name": "crop",
         "rawType": "object",
         "type": "string"
        },
        {
         "name": "year",
         "rawType": "int32",
         "type": "integer"
        },
        {
         "name": "gep",
         "rawType": "object",
         "type": "unknown"
        },
        {
         "name": "rental_rate",
         "rawType": "object",
         "type": "unknown"
        }
       ],
       "ref": "1a544792-1ebc-4534-8e09-66c5710f0d03",
       "rows": [
        [
         "348",
         "1",
         "Armenia",
         "1182",
         "Natural honey",
         "2019",
         "3884.2400000000002",
         "0.23"
        ],
        [
         "349",
         "1",
         "Armenia",
         "977",
         "Meat of sheep, fresh or chilled",
         "2019",
         "14405.36",
         "0.23"
        ],
        [
         "350",
         "1",
         "Armenia",
         "1035",
         "Meat of pig with the bone, fresh or chilled",
         "2019",
         "17129.71",
         "0.23"
        ],
        [
         "351",
         "1",
         "Armenia",
         "867",
         "Meat of cattle with the bone, fresh or chilled",
         "2019",
         "83578.55",
         "0.23"
        ],
        [
         "352",
         "1",
         "Armenia",
         "1062",
         "Hen eggs in shell, fresh",
         "2019",
         "20379.61",
         "0.23"
        ],
        [
         "353",
         "1",
         "Armenia",
         "1058",
         "Meat of chickens, fresh or chilled",
         "2019",
         "14786.24",
         "0.23"
        ],
        [
         "778",
         "3",
         "Albania",
         "1182",
         "Natural honey",
         "2019",
         "11608.1",
         "0.23"
        ],
        [
         "779",
         "3",
         "Albania",
         "977",
         "Meat of sheep, fresh or chilled",
         "2019",
         null,
         "0.23"
        ],
        [
         "780",
         "3",
         "Albania",
         "1035",
         "Meat of pig with the bone, fresh or chilled",
         "2019",
         null,
         "0.23"
        ],
        [
         "781",
         "3",
         "Albania",
         "867",
         "Meat of cattle with the bone, fresh or chilled",
         "2019",
         null,
         "0.23"
        ],
        [
         "782",
         "3",
         "Albania",
         "1058",
         "Meat of chickens, fresh or chilled",
         "2019",
         null,
         "0.23"
        ],
        [
         "783",
         "3",
         "Albania",
         "1062",
         "Hen eggs in shell, fresh",
         "2019",
         "43517.15",
         "0.23"
        ],
        [
         "784",
         "3",
         "Albania",
         "1017",
         "Meat of goat, fresh or chilled",
         "2019",
         null,
         "0.23"
        ],
        [
         "1212",
         "4",
         "Algeria",
         "1182",
         "Natural honey",
         "2019",
         null,
         "0.482"
        ],
        [
         "1213",
         "4",
         "Algeria",
         "977",
         "Meat of sheep, fresh or chilled",
         "2019",
         "1572212.182",
         "0.482"
        ],
        [
         "1214",
         "4",
         "Algeria",
         "1017",
         "Meat of goat, fresh or chilled",
         "2019",
         "141220.216",
         "0.482"
        ],
        [
         "1215",
         "4",
         "Algeria",
         "1127",
         "Meat of camels, fresh or chilled",
         "2019",
         "46444.074",
         "0.482"
        ],
        [
         "1216",
         "4",
         "Algeria",
         "867",
         "Meat of cattle with the bone, fresh or chilled",
         "2019",
         "638508.292",
         "0.482"
        ],
        [
         "1217",
         "4",
         "Algeria",
         "1062",
         "Hen eggs in shell, fresh",
         "2019",
         "234136.31999999998",
         "0.482"
        ],
        [
         "1218",
         "4",
         "Algeria",
         "1058",
         "Meat of chickens, fresh or chilled",
         "2019",
         "364571.78599999996",
         "0.482"
        ],
        [
         "1588",
         "8",
         "Antigua and Barbuda",
         "1062",
         "Hen eggs in shell, fresh",
         "2019",
         null,
         null
        ],
        [
         "1589",
         "8",
         "Antigua and Barbuda",
         "867",
         "Meat of cattle with the bone, fresh or chilled",
         "2019",
         null,
         null
        ],
        [
         "1590",
         "8",
         "Antigua and Barbuda",
         "1058",
         "Meat of chickens, fresh or chilled",
         "2019",
         null,
         null
        ],
        [
         "1591",
         "8",
         "Antigua and Barbuda",
         "1017",
         "Meat of goat, fresh or chilled",
         "2019",
         null,
         null
        ],
        [
         "1592",
         "8",
         "Antigua and Barbuda",
         "1035",
         "Meat of pig with the bone, fresh or chilled",
         "2019",
         null,
         null
        ],
        [
         "1593",
         "8",
         "Antigua and Barbuda",
         "977",
         "Meat of sheep, fresh or chilled",
         "2019",
         null,
         null
        ],
        [
         "2018",
         "9",
         "Argentina",
         "1182",
         "Natural honey",
         "2019",
         null,
         "0.083"
        ],
        [
         "2019",
         "9",
         "Argentina",
         "977",
         "Meat of sheep, fresh or chilled",
         "2019",
         "14782.051000000001",
         "0.083"
        ],
        [
         "2020",
         "9",
         "Argentina",
         "1141",
         "Meat of rabbits and hares, fresh or chilled",
         "2019",
         null,
         "0.083"
        ],
        [
         "2021",
         "9",
         "Argentina",
         "1097",
         "Horse meat, fresh or chilled",
         "2019",
         null,
         "0.083"
        ],
        [
         "2022",
         "9",
         "Argentina",
         "867",
         "Meat of cattle with the bone, fresh or chilled",
         "2019",
         "548684.78",
         "0.083"
        ],
        [
         "2023",
         "9",
         "Argentina",
         "1062",
         "Hen eggs in shell, fresh",
         "2019",
         "75816.682",
         "0.083"
        ],
        [
         "2024",
         "9",
         "Argentina",
         "1058",
         "Meat of chickens, fresh or chilled",
         "2019",
         "211302.81100000002",
         "0.083"
        ],
        [
         "2452",
         "10",
         "Australia",
         "1182",
         "Natural honey",
         "2019",
         null,
         "0.541"
        ],
        [
         "2453",
         "10",
         "Australia",
         "977",
         "Meat of sheep, fresh or chilled",
         "2019",
         null,
         "0.541"
        ],
        [
         "2454",
         "10",
         "Australia",
         "1035",
         "Meat of pig with the bone, fresh or chilled",
         "2019",
         null,
         "0.541"
        ],
        [
         "2455",
         "10",
         "Australia",
         "867",
         "Meat of cattle with the bone, fresh or chilled",
         "2019",
         null,
         "0.541"
        ],
        [
         "2456",
         "10",
         "Australia",
         "1058",
         "Meat of chickens, fresh or chilled",
         "2019",
         null,
         "0.541"
        ],
        [
         "2457",
         "10",
         "Australia",
         "1062",
         "Hen eggs in shell, fresh",
         "2019",
         "313189.228",
         "0.541"
        ],
        [
         "2458",
         "10",
         "Australia",
         "1017",
         "Meat of goat, fresh or chilled",
         "2019",
         null,
         "0.541"
        ],
        [
         "2944",
         "11",
         "Austria",
         "1182",
         "Natural honey",
         "2019",
         "3704.164",
         "0.094"
        ],
        [
         "2945",
         "11",
         "Austria",
         "1080",
         "Meat of turkeys, fresh or chilled",
         "2019",
         "3003.206",
         "0.094"
        ],
        [
         "2946",
         "11",
         "Austria",
         "977",
         "Meat of sheep, fresh or chilled",
         "2019",
         "3649.268",
         "0.094"
        ],
        [
         "2947",
         "11",
         "Austria",
         "1035",
         "Meat of pig with the bone, fresh or chilled",
         "2019",
         "93507.158",
         "0.094"
        ],
        [
         "2948",
         "11",
         "Austria",
         "867",
         "Meat of cattle with the bone, fresh or chilled",
         "2019",
         "90124.28600000001",
         "0.094"
        ],
        [
         "2949",
         "11",
         "Austria",
         "1097",
         "Horse meat, fresh or chilled",
         "2019",
         null,
         "0.094"
        ],
        [
         "2950",
         "11",
         "Austria",
         "1062",
         "Hen eggs in shell, fresh",
         "2019",
         "31948.344",
         "0.094"
        ],
        [
         "2951",
         "11",
         "Austria",
         "1058",
         "Meat of chickens, fresh or chilled",
         "2019",
         "32393.528",
         "0.094"
        ],
        [
         "3034",
         "13",
         "Bahrain",
         "1062",
         "Hen eggs in shell, fresh",
         "2019",
         "7562.58",
         "0.482"
        ],
        [
         "3212",
         "14",
         "Barbados",
         "1062",
         "Hen eggs in shell, fresh",
         "2019",
         null,
         null
        ]
       ],
       "shape": {
        "columns": 7,
        "rows": 813
       }
      },
      "text/html": [
       "<div>\n",
       "<style scoped>\n",
       "    .dataframe tbody tr th:only-of-type {\n",
       "        vertical-align: middle;\n",
       "    }\n",
       "\n",
       "    .dataframe tbody tr th {\n",
       "        vertical-align: top;\n",
       "    }\n",
       "\n",
       "    .dataframe thead th {\n",
       "        text-align: right;\n",
       "    }\n",
       "</style>\n",
       "<table border=\"1\" class=\"dataframe\">\n",
       "  <thead>\n",
       "    <tr style=\"text-align: right;\">\n",
       "      <th></th>\n",
       "      <th>area_code</th>\n",
       "      <th>country</th>\n",
       "      <th>crop_code</th>\n",
       "      <th>crop</th>\n",
       "      <th>year</th>\n",
       "      <th>gep</th>\n",
       "      <th>rental_rate</th>\n",
       "    </tr>\n",
       "  </thead>\n",
       "  <tbody>\n",
       "    <tr>\n",
       "      <th>348</th>\n",
       "      <td>1</td>\n",
       "      <td>Armenia</td>\n",
       "      <td>1182</td>\n",
       "      <td>Natural honey</td>\n",
       "      <td>2019</td>\n",
       "      <td>3884.24</td>\n",
       "      <td>0.23</td>\n",
       "    </tr>\n",
       "    <tr>\n",
       "      <th>349</th>\n",
       "      <td>1</td>\n",
       "      <td>Armenia</td>\n",
       "      <td>977</td>\n",
       "      <td>Meat of sheep, fresh or chilled</td>\n",
       "      <td>2019</td>\n",
       "      <td>14405.36</td>\n",
       "      <td>0.23</td>\n",
       "    </tr>\n",
       "    <tr>\n",
       "      <th>350</th>\n",
       "      <td>1</td>\n",
       "      <td>Armenia</td>\n",
       "      <td>1035</td>\n",
       "      <td>Meat of pig with the bone, fresh or chilled</td>\n",
       "      <td>2019</td>\n",
       "      <td>17129.71</td>\n",
       "      <td>0.23</td>\n",
       "    </tr>\n",
       "    <tr>\n",
       "      <th>351</th>\n",
       "      <td>1</td>\n",
       "      <td>Armenia</td>\n",
       "      <td>867</td>\n",
       "      <td>Meat of cattle with the bone, fresh or chilled</td>\n",
       "      <td>2019</td>\n",
       "      <td>83578.55</td>\n",
       "      <td>0.23</td>\n",
       "    </tr>\n",
       "    <tr>\n",
       "      <th>352</th>\n",
       "      <td>1</td>\n",
       "      <td>Armenia</td>\n",
       "      <td>1062</td>\n",
       "      <td>Hen eggs in shell, fresh</td>\n",
       "      <td>2019</td>\n",
       "      <td>20379.61</td>\n",
       "      <td>0.23</td>\n",
       "    </tr>\n",
       "    <tr>\n",
       "      <th>...</th>\n",
       "      <td>...</td>\n",
       "      <td>...</td>\n",
       "      <td>...</td>\n",
       "      <td>...</td>\n",
       "      <td>...</td>\n",
       "      <td>...</td>\n",
       "      <td>...</td>\n",
       "    </tr>\n",
       "    <tr>\n",
       "      <th>50326</th>\n",
       "      <td>5815</td>\n",
       "      <td>Low Income Food Deficit Countries</td>\n",
       "      <td>977</td>\n",
       "      <td>Meat of sheep, fresh or chilled</td>\n",
       "      <td>2019</td>\n",
       "      <td>NaN</td>\n",
       "      <td>NaN</td>\n",
       "    </tr>\n",
       "    <tr>\n",
       "      <th>50327</th>\n",
       "      <td>5815</td>\n",
       "      <td>Low Income Food Deficit Countries</td>\n",
       "      <td>1012</td>\n",
       "      <td>Meat of sheep, fresh or chilled (indigenous)</td>\n",
       "      <td>2019</td>\n",
       "      <td>NaN</td>\n",
       "      <td>NaN</td>\n",
       "    </tr>\n",
       "    <tr>\n",
       "      <th>50328</th>\n",
       "      <td>5815</td>\n",
       "      <td>Low Income Food Deficit Countries</td>\n",
       "      <td>1080</td>\n",
       "      <td>Meat of turkeys, fresh or chilled</td>\n",
       "      <td>2019</td>\n",
       "      <td>NaN</td>\n",
       "      <td>NaN</td>\n",
       "    </tr>\n",
       "    <tr>\n",
       "      <th>50329</th>\n",
       "      <td>5815</td>\n",
       "      <td>Low Income Food Deficit Countries</td>\n",
       "      <td>1087</td>\n",
       "      <td>Meat of turkeys, fresh or chilled (indigenous)</td>\n",
       "      <td>2019</td>\n",
       "      <td>NaN</td>\n",
       "      <td>NaN</td>\n",
       "    </tr>\n",
       "    <tr>\n",
       "      <th>50330</th>\n",
       "      <td>5815</td>\n",
       "      <td>Low Income Food Deficit Countries</td>\n",
       "      <td>1182</td>\n",
       "      <td>Natural honey</td>\n",
       "      <td>2019</td>\n",
       "      <td>NaN</td>\n",
       "      <td>NaN</td>\n",
       "    </tr>\n",
       "  </tbody>\n",
       "</table>\n",
       "<p>813 rows × 7 columns</p>\n",
       "</div>"
      ],
      "text/plain": [
       "       area_code                            country  crop_code  \\\n",
       "348            1                            Armenia       1182   \n",
       "349            1                            Armenia        977   \n",
       "350            1                            Armenia       1035   \n",
       "351            1                            Armenia        867   \n",
       "352            1                            Armenia       1062   \n",
       "...          ...                                ...        ...   \n",
       "50326       5815  Low Income Food Deficit Countries        977   \n",
       "50327       5815  Low Income Food Deficit Countries       1012   \n",
       "50328       5815  Low Income Food Deficit Countries       1080   \n",
       "50329       5815  Low Income Food Deficit Countries       1087   \n",
       "50330       5815  Low Income Food Deficit Countries       1182   \n",
       "\n",
       "                                                 crop  year       gep  \\\n",
       "348                                     Natural honey  2019   3884.24   \n",
       "349                   Meat of sheep, fresh or chilled  2019  14405.36   \n",
       "350       Meat of pig with the bone, fresh or chilled  2019  17129.71   \n",
       "351    Meat of cattle with the bone, fresh or chilled  2019  83578.55   \n",
       "352                          Hen eggs in shell, fresh  2019  20379.61   \n",
       "...                                               ...   ...       ...   \n",
       "50326                 Meat of sheep, fresh or chilled  2019       NaN   \n",
       "50327    Meat of sheep, fresh or chilled (indigenous)  2019       NaN   \n",
       "50328               Meat of turkeys, fresh or chilled  2019       NaN   \n",
       "50329  Meat of turkeys, fresh or chilled (indigenous)  2019       NaN   \n",
       "50330                                   Natural honey  2019       NaN   \n",
       "\n",
       "      rental_rate  \n",
       "348          0.23  \n",
       "349          0.23  \n",
       "350          0.23  \n",
       "351          0.23  \n",
       "352          0.23  \n",
       "...           ...  \n",
       "50326         NaN  \n",
       "50327         NaN  \n",
       "50328         NaN  \n",
       "50329         NaN  \n",
       "50330         NaN  \n",
       "\n",
       "[813 rows x 7 columns]"
      ]
     },
     "metadata": {},
     "output_type": "display_data"
    }
   ],
   "source": [
    "df = crops[\"gep_by_country_year_crop\"]\n",
    "display(df[df[\"year\"] == 2019])\n",
    "\n",
    "df = livestock[\"gep_by_country_year_crop\"]\n",
    "display(df[df[\"year\"] == 2019])"
   ]
  },
  {
   "cell_type": "markdown",
   "id": "eb7fdacd",
   "metadata": {},
   "source": [
    "Some initial dta exploration"
   ]
  },
  {
   "cell_type": "code",
   "execution_count": 33,
   "id": "d9e5c24c",
   "metadata": {},
   "outputs": [
    {
     "data": {
      "application/vnd.microsoft.datawrangler.viewer.v0+json": {
       "columns": [
        {
         "name": "index",
         "rawType": "int64",
         "type": "integer"
        },
        {
         "name": "year",
         "rawType": "int32",
         "type": "integer"
        },
        {
         "name": "total_gep",
         "rawType": "float64",
         "type": "float"
        }
       ],
       "ref": "7a8b6034-8170-4e79-aba1-93ac7bf5e042",
       "rows": [
        [
         "0",
         "1961",
         "0.0"
        ],
        [
         "1",
         "1962",
         "0.0"
        ],
        [
         "2",
         "1963",
         "0.0"
        ],
        [
         "3",
         "1964",
         "0.0"
        ],
        [
         "4",
         "1965",
         "0.0"
        ],
        [
         "5",
         "1966",
         "0.0"
        ],
        [
         "6",
         "1967",
         "0.0"
        ],
        [
         "7",
         "1968",
         "0.0"
        ],
        [
         "8",
         "1969",
         "0.0"
        ],
        [
         "9",
         "1970",
         "0.0"
        ],
        [
         "10",
         "1971",
         "0.0"
        ],
        [
         "11",
         "1972",
         "0.0"
        ],
        [
         "12",
         "1973",
         "0.0"
        ],
        [
         "13",
         "1974",
         "0.0"
        ],
        [
         "14",
         "1975",
         "0.0"
        ],
        [
         "15",
         "1976",
         "0.0"
        ],
        [
         "16",
         "1977",
         "0.0"
        ],
        [
         "17",
         "1978",
         "0.0"
        ],
        [
         "18",
         "1979",
         "0.0"
        ],
        [
         "19",
         "1980",
         "0.0"
        ],
        [
         "20",
         "1981",
         "0.0"
        ],
        [
         "21",
         "1982",
         "0.0"
        ],
        [
         "22",
         "1983",
         "0.0"
        ],
        [
         "23",
         "1984",
         "0.0"
        ],
        [
         "24",
         "1985",
         "0.0"
        ],
        [
         "25",
         "1986",
         "0.0"
        ],
        [
         "26",
         "1987",
         "0.0"
        ],
        [
         "27",
         "1988",
         "0.0"
        ],
        [
         "28",
         "1989",
         "0.0"
        ],
        [
         "29",
         "1990",
         "0.0"
        ],
        [
         "30",
         "1991",
         "34021850.887"
        ],
        [
         "31",
         "1992",
         "39668169.669"
        ],
        [
         "32",
         "1993",
         "42845902.797000006"
        ],
        [
         "33",
         "1994",
         "46190875.573"
        ],
        [
         "34",
         "1995",
         "36857352.454"
        ],
        [
         "35",
         "1996",
         "34228871.377000004"
        ],
        [
         "36",
         "1997",
         "31770527.702"
        ],
        [
         "37",
         "1998",
         "44416074.59"
        ],
        [
         "38",
         "1999",
         "43748025.81"
        ],
        [
         "39",
         "2000",
         "43049708.871"
        ],
        [
         "40",
         "2001",
         "44475088.95900001"
        ],
        [
         "41",
         "2002",
         "48489952.333000004"
        ],
        [
         "42",
         "2003",
         "46774676.068"
        ],
        [
         "43",
         "2004",
         "58429684.639"
        ],
        [
         "44",
         "2005",
         "62634718.99600001"
        ],
        [
         "45",
         "2006",
         "64177357.863000005"
        ],
        [
         "46",
         "2007",
         "78735433.94"
        ],
        [
         "47",
         "2008",
         "100573690.05200002"
        ],
        [
         "48",
         "2009",
         "96742474.84300001"
        ],
        [
         "49",
         "2010",
         "108109607.53800002"
        ]
       ],
       "shape": {
        "columns": 2,
        "rows": 62
       }
      },
      "text/html": [
       "<div>\n",
       "<style scoped>\n",
       "    .dataframe tbody tr th:only-of-type {\n",
       "        vertical-align: middle;\n",
       "    }\n",
       "\n",
       "    .dataframe tbody tr th {\n",
       "        vertical-align: top;\n",
       "    }\n",
       "\n",
       "    .dataframe thead th {\n",
       "        text-align: right;\n",
       "    }\n",
       "</style>\n",
       "<table border=\"1\" class=\"dataframe\">\n",
       "  <thead>\n",
       "    <tr style=\"text-align: right;\">\n",
       "      <th></th>\n",
       "      <th>year</th>\n",
       "      <th>total_gep</th>\n",
       "    </tr>\n",
       "  </thead>\n",
       "  <tbody>\n",
       "    <tr>\n",
       "      <th>0</th>\n",
       "      <td>1961</td>\n",
       "      <td>0.000000e+00</td>\n",
       "    </tr>\n",
       "    <tr>\n",
       "      <th>1</th>\n",
       "      <td>1962</td>\n",
       "      <td>0.000000e+00</td>\n",
       "    </tr>\n",
       "    <tr>\n",
       "      <th>2</th>\n",
       "      <td>1963</td>\n",
       "      <td>0.000000e+00</td>\n",
       "    </tr>\n",
       "    <tr>\n",
       "      <th>3</th>\n",
       "      <td>1964</td>\n",
       "      <td>0.000000e+00</td>\n",
       "    </tr>\n",
       "    <tr>\n",
       "      <th>4</th>\n",
       "      <td>1965</td>\n",
       "      <td>0.000000e+00</td>\n",
       "    </tr>\n",
       "    <tr>\n",
       "      <th>...</th>\n",
       "      <td>...</td>\n",
       "      <td>...</td>\n",
       "    </tr>\n",
       "    <tr>\n",
       "      <th>57</th>\n",
       "      <td>2018</td>\n",
       "      <td>9.213443e+07</td>\n",
       "    </tr>\n",
       "    <tr>\n",
       "      <th>58</th>\n",
       "      <td>2019</td>\n",
       "      <td>1.341585e+08</td>\n",
       "    </tr>\n",
       "    <tr>\n",
       "      <th>59</th>\n",
       "      <td>2020</td>\n",
       "      <td>1.309401e+08</td>\n",
       "    </tr>\n",
       "    <tr>\n",
       "      <th>60</th>\n",
       "      <td>2021</td>\n",
       "      <td>1.237664e+08</td>\n",
       "    </tr>\n",
       "    <tr>\n",
       "      <th>61</th>\n",
       "      <td>2022</td>\n",
       "      <td>1.454601e+08</td>\n",
       "    </tr>\n",
       "  </tbody>\n",
       "</table>\n",
       "<p>62 rows × 2 columns</p>\n",
       "</div>"
      ],
      "text/plain": [
       "    year     total_gep\n",
       "0   1961  0.000000e+00\n",
       "1   1962  0.000000e+00\n",
       "2   1963  0.000000e+00\n",
       "3   1964  0.000000e+00\n",
       "4   1965  0.000000e+00\n",
       "..   ...           ...\n",
       "57  2018  9.213443e+07\n",
       "58  2019  1.341585e+08\n",
       "59  2020  1.309401e+08\n",
       "60  2021  1.237664e+08\n",
       "61  2022  1.454601e+08\n",
       "\n",
       "[62 rows x 2 columns]"
      ]
     },
     "metadata": {},
     "output_type": "display_data"
    },
    {
     "data": {
      "image/png": "[encoded data removed]",
      "text/plain": [
       "<Figure size 640x480 with 1 Axes>"
      ]
     },
     "metadata": {},
     "output_type": "display_data"
    }
   ],
   "source": [
    "df = livestock[\"gep_by_year\"]\n",
    "df2 = crops[\"gep_by_year\"]\n",
    "display(df)\n",
    "\n",
    "plt.plot(df[\"year\"], df[\"total_gep\"], marker=\"o\", linestyle=\"-\")\n",
    "plt.plot(df2[\"year\"], df2[\"total_gep\"], marker=\"o\", linestyle=\"-\")\n",
    "plt.title(\"Time Series of Commercial Agriculture (All Countries)\")\n",
    "plt.xlabel(\"Year\")\n",
    "plt.ylabel(\"GEP (1000 USD)\")\n",
    "plt.xticks(rotation=45)\n",
    "plt.grid(True)\n",
    "plt.show()"
   ]
  }
 ],
 "metadata": {
  "kernelspec": {
   "display_name": "Python 3",
   "language": "python",
   "name": "python3"
  },
  "language_info": {
   "codemirror_mode": {
    "name": "ipython",
    "version": 3
   },
   "file_extension": ".py",
   "mimetype": "text/x-python",
   "name": "python",
   "nbconvert_exporter": "python",
   "pygments_lexer": "ipython3",
   "version": "3.12.2"
  }
 },
 "nbformat": 4,
 "nbformat_minor": 5
}
